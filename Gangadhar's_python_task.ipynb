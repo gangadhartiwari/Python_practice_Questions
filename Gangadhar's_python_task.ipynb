{
 "cells": [
  {
   "cell_type": "markdown",
   "id": "e587354c-6888-4672-97df-a3090b10cec6",
   "metadata": {},
   "source": [
    "<h2 style = \"color:yellow\">Core Python Task </h2>  <h3 style = \"color:aqua\"> By Gangadhar Tiwari</h3>"
   ]
  },
  {
   "cell_type": "raw",
   "id": "db6cf969-8d96-4df9-8a60-b2b32cee3431",
   "metadata": {},
   "source": [
    "\n",
    "\n",
    "1.\tWrite a  program to input basic salary of an employee and calculate its Gross salary according to following:\n",
    "Basic Salary <= 10000 : HRA = 20%, DA = 80%\n",
    "Basic Salary <= 20000 : HRA = 25%, DA = 90%\n",
    "Basic Salary > 20000 : HRA = 30%, DA = 95%\n",
    "2.\tWrite a  program to input electricity unit charges and calculate total electricity bill according to the given condition:\n",
    "For first 50 units Rs. 0.50/unit\n",
    "For next 100 units Rs. 0.75/unit\n",
    "For next 100 units Rs. 1.20/unit\n",
    "For unit above 250 Rs. 1.50/unit\n",
    "An additional surcharge of 20% is added to the bill\n",
    "3.\tWrite a  program to count total number of notes in given amount.\n",
    "4.\tWrite a  program to swap first and last digits of a number.\n",
    "5.\tWrite a  program to swap first and last digits of a number.\n",
    "6.\tWrite a  program to find given number is perfect number or not.\n",
    "7.\tWrite a  program to check whether a number is Strong number or not..\n",
    "Note:Strong number is a special number whose sum of the factorial of digits is equal to the original number. \n",
    "Ex:145 is strong number\n",
    "8.\tWrite a  program to convert Decimal to Binary number system.\n",
    "9.\tWrite a  program to convert Binary to Decimal number system.\n",
    "10.\tWrite a program to count one in binary.\n",
    "11.\tWrite a  program to print Pascal triangle upto n rows.\n",
    "12.\tWrite a  program to check whether a number is Armstrong number or not.\n",
    "13.\tWrite a  program to find LCM of two numbers.\n",
    "14.\tWrite a  program to find all factors of a number.\n",
    "15.\tWrite a  program to print all ASCII character with their values.\n"
   ]
  },
  {
   "cell_type": "code",
   "execution_count": 1,
   "id": "356db087-1193-486d-8292-c32f4b9947c7",
   "metadata": {},
   "outputs": [
    {
     "name": "stdin",
     "output_type": "stream",
     "text": [
      "Enter the Basic Salary :-  12000\n"
     ]
    },
    {
     "name": "stdout",
     "output_type": "stream",
     "text": [
      "Gross Salary : 25800.0\n"
     ]
    }
   ],
   "source": [
    "# 1.\tWrite a  program to input basic salary of an employee and calculate its Gross salary:\n",
    "\n",
    "sl = int(input(\"Enter the Basic Salary :- \"))\n",
    "\n",
    "if (sl<= 10000):\n",
    "    hra = sl*0.20\n",
    "    da = sl*0.80 \n",
    "elif (sl<= 20000):\n",
    "    hra = sl*0.25\n",
    "    da = sl*0.90\n",
    "else:\n",
    "    hra = sl*0.30\n",
    "    da = sl*0.95\n",
    "gross_salary = sl + hra + da\n",
    "\n",
    "print(f\"Gross Salary : {gross_salary}\")\n"
   ]
  },
  {
   "cell_type": "code",
   "execution_count": 15,
   "id": "4ec2e4ad-04db-4d29-81eb-18ab71392396",
   "metadata": {},
   "outputs": [
    {
     "name": "stdin",
     "output_type": "stream",
     "text": [
      "Enter the total units:-  60\n"
     ]
    },
    {
     "name": "stdout",
     "output_type": "stream",
     "text": [
      "Total bill is -  39.0\n"
     ]
    }
   ],
   "source": [
    "# 2.Write a  program to input electricity unit charges and calculate total electricity bill\n",
    "\n",
    "unit  = int(input(\"Enter the total units:- \"))\n",
    "\n",
    "if unit <=50: \n",
    "    bill = unit*0.50\n",
    "elif unit <=150: \n",
    "    bill = (50*0.5) + ((unit-50)*0.75)\n",
    "elif unit <=250: \n",
    "    bill = (50*0.5) + (100*0.75) + ((unit-150)*1.20)\n",
    "else: \n",
    "    bill = (50*0.5) + (100*0.75) + (100*1.20) + ((unit-250)*1.50)\n",
    "\n",
    "total_bill = bill + (bill*0.20)\n",
    "\n",
    "print(\"Total bill is - \", total_bill)"
   ]
  },
  {
   "cell_type": "code",
   "execution_count": 9,
   "id": "bc495270-67dd-4cc0-94c0-c637bc63cce0",
   "metadata": {},
   "outputs": [
    {
     "name": "stdin",
     "output_type": "stream",
     "text": [
      "Enter the amount :-  1254\n"
     ]
    },
    {
     "name": "stdout",
     "output_type": "stream",
     "text": [
      "note of  500  :-  2\n",
      "note of  200  :-  1\n",
      "note of  100  :-  0\n",
      "note of  50  :-  1\n",
      "note of  20  :-  0\n",
      "note of  10  :-  0\n",
      "note of  5  :-  0\n",
      "note of  2  :-  2\n",
      "note of  1  :-  0\n"
     ]
    }
   ],
   "source": [
    "# 3.\tWrite a  program to count total number of notes in given amount.\n",
    "\n",
    "# notes = [500,200,100,50,20,10,5,2,1]\n",
    "\n",
    "# amount = int(input(\"Enter the amount :- \"))\n",
    "# note500=note200=note100=note50=note20=note10=note5=note2=note1=0\n",
    "\n",
    "# if amount>=500:\n",
    "#     note500 = amount//500\n",
    "#     amount = amount-note500*500\n",
    "# if amount>=200:\n",
    "#     note200 = amount//200\n",
    "#     amount = amount-note200*200\n",
    "# if amount>=100:\n",
    "#     note100 = amount//100\n",
    "#     amount = amount-note100*100\n",
    "# if amount>=50:\n",
    "#     note50 = amount//50\n",
    "#     amount = amount-note50*50\n",
    "# if amount>=20:\n",
    "#     note20 = amount//20\n",
    "#     amount = amount-note20*20\n",
    "# if amount>=10:\n",
    "#     note10 = amount//10\n",
    "#     amount = amount-note10*10\n",
    "# if amount>=5:\n",
    "#     note5 = amount//5\n",
    "#     amount = amount-note5*5\n",
    "# if amount>=2:\n",
    "#     note2 = amount//2\n",
    "#     amount = amount-note2*2\n",
    "# if amount>=1:\n",
    "#     note1 = amount//1\n",
    "#     amount = amount-note1*1\n",
    "\n",
    "# print(\"500 :-  \", note500)\n",
    "# print(\"200 :-  \", note200)\n",
    "# print(\"100 :-  \", note100)\n",
    "# print(\"50  :-  \", note50)\n",
    "# print(\"20  :-  \", note20)\n",
    "# print(\"10  :-  \", note10)\n",
    "# print(\"5   :-  \", note5)\n",
    "# print(\"2   :-  \", note2)\n",
    "# print(\"1   :-  \", note1)\n",
    "\n",
    "\n",
    "# by using for loop\n",
    "\n",
    "notes = [500,200,100,50,20,10,5,2,1]\n",
    "amount = int(input(\"Enter the amount :- \"))\n",
    "\n",
    "for note in notes: \n",
    "    note_count = amount//note \n",
    "    print(\"note of \", note, \" :- \", note_count)\n",
    "    amount= amount%note\n"
   ]
  },
  {
   "cell_type": "code",
   "execution_count": 13,
   "id": "1aa665fc-937c-47c8-a923-a6f4033471d4",
   "metadata": {},
   "outputs": [
    {
     "name": "stdin",
     "output_type": "stream",
     "text": [
      "Enter any number :-  12345\n"
     ]
    },
    {
     "name": "stdout",
     "output_type": "stream",
     "text": [
      "52341\n"
     ]
    }
   ],
   "source": [
    "# 4.\tWrite a  program to swap first and last digits of a number. \n",
    "\n",
    "n = input(\"Enter any number :- \")\n",
    "\n",
    "if len(n)<=1: \n",
    "    rev = n\n",
    "else:\n",
    "    rev = (n[-1]+n[1:-1]+n[0])\n",
    "    \n",
    "print(int(rev))"
   ]
  },
  {
   "cell_type": "code",
   "execution_count": 5,
   "id": "d089f09e-0398-42ac-b0af-cb69f8a2fae4",
   "metadata": {},
   "outputs": [
    {
     "name": "stdin",
     "output_type": "stream",
     "text": [
      "Enter the number : -  28\n"
     ]
    },
    {
     "name": "stdout",
     "output_type": "stream",
     "text": [
      "28 is a Perfect Number.\n"
     ]
    }
   ],
   "source": [
    "# 6.Write a  program to find given number is perfect number or not.\n",
    "\n",
    "n = int(input(\"Enter the number : - \"))\n",
    "Sum = 0\n",
    "for i in range(1, n):\n",
    "    if(n % i == 0):\n",
    "        Sum = Sum + i\n",
    "if (Sum == n):\n",
    "    print(f\"{n} is a Perfect Number.\")\n",
    "else:\n",
    "    print(f\"{n} is not a Perfect Number.\")"
   ]
  },
  {
   "cell_type": "code",
   "execution_count": 11,
   "id": "5a41e5b9-9580-4c2b-a904-8bcf1145d3c4",
   "metadata": {},
   "outputs": [
    {
     "name": "stdin",
     "output_type": "stream",
     "text": [
      "Enter any number :-  146\n"
     ]
    },
    {
     "name": "stdout",
     "output_type": "stream",
     "text": [
      "146 is not a strong number \n"
     ]
    }
   ],
   "source": [
    "# 7.\tWrite a  program to check whether a number is Strong number or not..\n",
    "\n",
    "n = int(input(\"Enter any number :- \"))\n",
    "n1 = n\n",
    "sum = 0\n",
    "\n",
    "while n>0: \n",
    "    last_digit = n%10\n",
    "    fact = 1\n",
    "    while last_digit>0: \n",
    "        fact = fact*last_digit\n",
    "        last_digit = last_digit-1\n",
    "    sum = sum+fact\n",
    "    n = n//10\n",
    "if(sum==n1): \n",
    "    print(f\"{n1} is a strong number\")\n",
    "else: \n",
    "    print(f\"{n1} is not a strong number \")"
   ]
  },
  {
   "cell_type": "code",
   "execution_count": 13,
   "id": "51e7dacf-547c-4663-99e3-be440bba7b2a",
   "metadata": {},
   "outputs": [
    {
     "name": "stdin",
     "output_type": "stream",
     "text": [
      "Enter a decimal number :-  10\n"
     ]
    },
    {
     "name": "stdout",
     "output_type": "stream",
     "text": [
      "0b1010\n"
     ]
    }
   ],
   "source": [
    "# 8.\tWrite a  program to convert Decimal to Binary number system.\n",
    "\n",
    "dec = int(input(\"Enter a decimal number :- \"))\n",
    "\n",
    "binary = bin(dec)\n",
    "print(binary)"
   ]
  },
  {
   "cell_type": "code",
   "execution_count": 14,
   "id": "ebd69259-d693-41af-8fa9-77b78809d5cb",
   "metadata": {},
   "outputs": [
    {
     "name": "stdin",
     "output_type": "stream",
     "text": [
      "Enter a binary number:  1010\n"
     ]
    },
    {
     "name": "stdout",
     "output_type": "stream",
     "text": [
      "Decimal : 10\n"
     ]
    }
   ],
   "source": [
    "# 9.\tWrite a  program to convert Binary to Decimal number system.\n",
    "\n",
    "binary = input(\"Enter a binary number: \")\n",
    "\n",
    "decimal = int(binary, 2)\n",
    "\n",
    "print(\"Decimal :\", decimal)\n"
   ]
  },
  {
   "cell_type": "code",
   "execution_count": 26,
   "id": "f22a6a55-2b20-4e56-8d22-cc2ec839e1b8",
   "metadata": {},
   "outputs": [
    {
     "name": "stdin",
     "output_type": "stream",
     "text": [
      "Enter a decimal number:  7\n"
     ]
    },
    {
     "name": "stdout",
     "output_type": "stream",
     "text": [
      "<class 'str'>\n",
      "Binary of 7 is: 0b111\n",
      "Number of 1s in binary: 3\n"
     ]
    }
   ],
   "source": [
    "# 10.\tWrite a program to count one in binary.\n",
    "\n",
    "# n = int(input(\"Enter the number :- \"))\n",
    "# count = 0\n",
    "# binary = bin(n)\n",
    "# for i in binary:\n",
    "#     if(i=='1'):\n",
    "#         count+=1\n",
    "# print(count)\n",
    "\n",
    "\n",
    "num = int(input(\"Enter a decimal number: \"))\n",
    "binary = bin(num)\n",
    "ones_count = binary.count('1')             #string method count()\n",
    "print(f\"Binary of {num} is: {binary}\")\n",
    "print(f\"Number of 1s in binary: {ones_count}\")\n"
   ]
  },
  {
   "cell_type": "code",
   "execution_count": 11,
   "id": "cea4d168-547f-40c7-91fc-9fe84ff2ded7",
   "metadata": {},
   "outputs": [
    {
     "name": "stdin",
     "output_type": "stream",
     "text": [
      "Enter the number of rows :-  5\n"
     ]
    },
    {
     "name": "stdout",
     "output_type": "stream",
     "text": [
      "     1\n",
      "    1 1\n",
      "   1 1 1\n",
      "  1 1 1 1\n",
      " 1 1 1 1 1\n"
     ]
    }
   ],
   "source": [
    "# 11.\tWrite a  program to print Pascal triangle upto n rows.\n",
    "\n",
    "n = int(input(\"Enter the number of rows :- \"))\n",
    "\n",
    "for i in range(1, n+1): \n",
    "    print(' '*(n-i) + ' 1'*i)\n",
    "    \n",
    "        "
   ]
  },
  {
   "cell_type": "code",
   "execution_count": 13,
   "id": "ba4e8820-9b9e-444c-8fb5-7f4f6efcc1cb",
   "metadata": {},
   "outputs": [
    {
     "name": "stdin",
     "output_type": "stream",
     "text": [
      "Enter any number:-  153\n"
     ]
    },
    {
     "name": "stdout",
     "output_type": "stream",
     "text": [
      "Given number 153 is armstrong\n"
     ]
    }
   ],
   "source": [
    "# 12.\tWrite a  program to check whether a number is Armstrong number or not.\n",
    "\n",
    "n = int(input(\"Enter any number:- \"))\n",
    "n1= n2  = n\n",
    "total_digit = 0\n",
    "sum = 0\n",
    "while n>0:\n",
    "    total_digit += 1\n",
    "    n = n//10\n",
    "# print(f\"Total digit in {n1} is = {total_digit}\")\n",
    "while n1>0:\n",
    "    digit = n1%10\n",
    "    sum = sum + digit**total_digit\n",
    "    n1 = n1//10\n",
    "    \n",
    "if(sum == n2):\n",
    "    print(f\"Given number {n2} is armstrong\")\n",
    "else: \n",
    "    print(f\"{n2} is not armstrong\")\n",
    "\n",
    "#by using for loop\n",
    "\n",
    "# n = int(input(\"Enter any number:- \"))\n",
    "# n1 = n2 = n\n",
    "# sum = 0\n",
    "# total_digit = 0\n",
    "# for i in str(n):\n",
    "#     total_digit += 1\n",
    "\n",
    "# for i in str(n1):\n",
    "#     digit = int(i)\n",
    "#     sum += digit ** total_digit\n",
    "    \n",
    "# if sum == n2:\n",
    "#     print(f\"Given number {n2} is Armstrong\")\n",
    "# else:\n",
    "#     print(f\"{n2} is not Armstrong\")\n"
   ]
  },
  {
   "cell_type": "code",
   "execution_count": 1,
   "id": "182e744e-80ed-4ed7-8517-c111c0f12c33",
   "metadata": {},
   "outputs": [
    {
     "name": "stdin",
     "output_type": "stream",
     "text": [
      "Enter first number :-  7\n",
      "Enter second number :-  35\n"
     ]
    },
    {
     "name": "stdout",
     "output_type": "stream",
     "text": [
      "The L.C.M. is 35\n"
     ]
    }
   ],
   "source": [
    "# 13.\tWrite a  program to find LCM of two numbers.\n",
    "\n",
    "def lcm(x, y):\n",
    "   if x > y:\n",
    "       greater = x\n",
    "   else:\n",
    "       greater = y\n",
    "\n",
    "   while(True):\n",
    "       if((greater % x == 0) and (greater % y == 0)):\n",
    "           lcm = greater\n",
    "           break\n",
    "       greater += 1\n",
    "   return lcm\n",
    "\n",
    "n1 = int(input(\"Enter first number :- \"))\n",
    "n2 = int(input(\"Enter second number :- \"))\n",
    "\n",
    "print(\"The L.C.M. is\", lcm(n1, n2))"
   ]
  },
  {
   "cell_type": "code",
   "execution_count": 6,
   "id": "3b25709d-4a27-43f5-b2d9-9af4ae16d0c3",
   "metadata": {},
   "outputs": [
    {
     "name": "stdin",
     "output_type": "stream",
     "text": [
      "Enter a number :-  10\n"
     ]
    },
    {
     "name": "stdout",
     "output_type": "stream",
     "text": [
      "1\n",
      "2\n",
      "5\n",
      "10\n"
     ]
    }
   ],
   "source": [
    "# 14.\tWrite a  program to find all factors of a number.\n",
    "\n",
    "n= int(input(\"Enter a number :- \"))\n",
    "i = 1\n",
    "while n>=i:\n",
    "    if(n%i==0):\n",
    "        print(i)\n",
    "    i = i+1\n",
    "# print(f\"The factors of {n} are :- \")\n"
   ]
  },
  {
   "cell_type": "code",
   "execution_count": 12,
   "id": "6fbf6643-229d-45ab-b028-afd44201561c",
   "metadata": {},
   "outputs": [
    {
     "name": "stdout",
     "output_type": "stream",
     "text": [
      "Printing the ascii character with their values :- \n",
      "0 : \u0000\n",
      "1 : \u0001\n",
      "2 : \u0002\n",
      "3 : \u0003\n",
      "4 : \u0004\n",
      "5 : \u0005\n",
      "6 : \u0006\n",
      "7 : \u0007\n",
      "8 :\n",
      "9 : \t\n",
      "10 : \n",
      "\n",
      "11 : \u000b",
      "\n",
      "12 : \f",
      "\n",
      "13 : \n",
      "14 : \u000e\n",
      "15 : \u000f\n",
      "16 : \u0010\n",
      "17 : \u0011\n",
      "18 : \u0012\n",
      "19 : \u0013\n",
      "20 : \u0014\n",
      "21 : \u0015\n",
      "22 : \u0016\n",
      "23 : \u0017\n",
      "24 : \u0018\n",
      "25 : \u0019\n",
      "26 : \u001a\n",
      "27 : \u001b\n",
      "28 : \u001c",
      "\n",
      "29 : \u001d",
      "\n",
      "30 : \u001e",
      "\n",
      "31 : \u001f\n",
      "32 :  \n",
      "33 : !\n",
      "34 : \"\n",
      "35 : #\n",
      "36 : $\n",
      "37 : %\n",
      "38 : &\n",
      "39 : '\n",
      "40 : (\n",
      "41 : )\n",
      "42 : *\n",
      "43 : +\n",
      "44 : ,\n",
      "45 : -\n",
      "46 : .\n",
      "47 : /\n",
      "48 : 0\n",
      "49 : 1\n",
      "50 : 2\n",
      "51 : 3\n",
      "52 : 4\n",
      "53 : 5\n",
      "54 : 6\n",
      "55 : 7\n",
      "56 : 8\n",
      "57 : 9\n",
      "58 : :\n",
      "59 : ;\n",
      "60 : <\n",
      "61 : =\n",
      "62 : >\n",
      "63 : ?\n",
      "64 : @\n",
      "65 : A\n",
      "66 : B\n",
      "67 : C\n",
      "68 : D\n",
      "69 : E\n",
      "70 : F\n",
      "71 : G\n",
      "72 : H\n",
      "73 : I\n",
      "74 : J\n",
      "75 : K\n",
      "76 : L\n",
      "77 : M\n",
      "78 : N\n",
      "79 : O\n",
      "80 : P\n",
      "81 : Q\n",
      "82 : R\n",
      "83 : S\n",
      "84 : T\n",
      "85 : U\n",
      "86 : V\n",
      "87 : W\n",
      "88 : X\n",
      "89 : Y\n",
      "90 : Z\n",
      "91 : [\n",
      "92 : \\\n",
      "93 : ]\n",
      "94 : ^\n",
      "95 : _\n",
      "96 : `\n",
      "97 : a\n",
      "98 : b\n",
      "99 : c\n",
      "100 : d\n",
      "101 : e\n",
      "102 : f\n",
      "103 : g\n",
      "104 : h\n",
      "105 : i\n",
      "106 : j\n",
      "107 : k\n",
      "108 : l\n",
      "109 : m\n",
      "110 : n\n",
      "111 : o\n",
      "112 : p\n",
      "113 : q\n",
      "114 : r\n",
      "115 : s\n",
      "116 : t\n",
      "117 : u\n",
      "118 : v\n",
      "119 : w\n",
      "120 : x\n",
      "121 : y\n",
      "122 : z\n",
      "123 : {\n",
      "124 : |\n",
      "125 : }\n",
      "126 : ~\n",
      "127 : \n"
     ]
    }
   ],
   "source": [
    "# 15.\tWrite a  program to print all ASCII character with their values.\n",
    "\n",
    "print(\"Printing the ascii character with their values :- \")\n",
    "\n",
    "for i in range(128): \n",
    "    print(f\"{i} : {chr(i)}\")"
   ]
  },
  {
   "cell_type": "code",
   "execution_count": null,
   "id": "40e129a0-ce3c-4a1b-a67e-7b4d988c7d29",
   "metadata": {},
   "outputs": [],
   "source": []
  }
 ],
 "metadata": {
  "kernelspec": {
   "display_name": "Python 3 (ipykernel)",
   "language": "python",
   "name": "python3"
  },
  "language_info": {
   "codemirror_mode": {
    "name": "ipython",
    "version": 3
   },
   "file_extension": ".py",
   "mimetype": "text/x-python",
   "name": "python",
   "nbconvert_exporter": "python",
   "pygments_lexer": "ipython3",
   "version": "3.12.7"
  }
 },
 "nbformat": 4,
 "nbformat_minor": 5
}
