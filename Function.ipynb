{
 "cells": [
  {
   "cell_type": "markdown",
   "id": "6359e4e3-b820-4e89-823b-50caa1d468e5",
   "metadata": {},
   "source": [
    "<h2 style = \"color:yellow\">Function</h2>"
   ]
  },
  {
   "cell_type": "raw",
   "id": "07a5e01c-4146-4669-8247-3e898001ebf3",
   "metadata": {},
   "source": [
    "-->  Avoid repeatation of loop. \n",
    "\n",
    "-->  Achieve code reusability\n",
    "\n",
    "1. in-built function     -->    max(), min(), sum(), type(), id(), print(), eval() .. etc\n",
    "\n",
    "2. user-define function   -->   fun. that made by user.\n",
    "\n",
    "\n",
    "                       syntax :- def fun_name(parameter):\n",
    "                                     fun_body\n",
    "                                     return value\n",
    "\n",
    "                          calling:- \n",
    "                                 fun_name(argument)"
   ]
  },
  {
   "cell_type": "code",
   "execution_count": 1,
   "id": "da5fd412-d07c-445a-816f-9ed01120c887",
   "metadata": {},
   "outputs": [
    {
     "name": "stdout",
     "output_type": "stream",
     "text": [
      "hello\n",
      "None\n"
     ]
    }
   ],
   "source": [
    "print(print(\"hello\"))"
   ]
  },
  {
   "cell_type": "code",
   "execution_count": 1,
   "id": "96a268bf-81b9-4d5b-83bf-c2c4e6bff97f",
   "metadata": {},
   "outputs": [
    {
     "name": "stdout",
     "output_type": "stream",
     "text": [
      "40\n",
      "40\n",
      "None\n"
     ]
    }
   ],
   "source": [
    "def add(): \n",
    "    z = 10+30\n",
    "    print(z)\n",
    "    # Here default return none is present if you dont return any value mannually \n",
    "add()\n",
    "print(add())"
   ]
  },
  {
   "cell_type": "code",
   "execution_count": 2,
   "id": "956e94be-0567-46b2-835c-a1ba775efd17",
   "metadata": {},
   "outputs": [
    {
     "name": "stdout",
     "output_type": "stream",
     "text": [
      "40\n"
     ]
    }
   ],
   "source": [
    "def add(): \n",
    "    z = 10+30\n",
    "    return z\n",
    "print(add())"
   ]
  },
  {
   "cell_type": "code",
   "execution_count": 2,
   "id": "b53773e9-0dac-42d9-ad9c-e57b208ea33c",
   "metadata": {},
   "outputs": [
    {
     "name": "stdin",
     "output_type": "stream",
     "text": [
      "Enter the number:-  5\n"
     ]
    },
    {
     "name": "stdout",
     "output_type": "stream",
     "text": [
      "This is first line- \n",
      "1,2,3,4,5\n"
     ]
    },
    {
     "name": "stdin",
     "output_type": "stream",
     "text": [
      "Enter the number:-  8\n"
     ]
    },
    {
     "name": "stdout",
     "output_type": "stream",
     "text": [
      "This is second line- \n",
      "1,2,3,4,5,6,7,8\n"
     ]
    }
   ],
   "source": [
    "def natural_number(n):\n",
    "    for i in range(1, n+1): \n",
    "        if i<n: \n",
    "            print(i, end=',')\n",
    "        else: \n",
    "            print(i)\n",
    "\n",
    "x= int(input(\"Enter the number:- \"))\n",
    "print(\"This is first line- \")\n",
    "natural_number(x)\n",
    "y= int(input(\"Enter the number:- \"))\n",
    "print(\"This is second line- \")\n",
    "natural_number(y)"
   ]
  },
  {
   "cell_type": "code",
   "execution_count": 4,
   "id": "90e169dd-4348-45ef-81c4-47d74a6fc1c1",
   "metadata": {},
   "outputs": [
    {
     "name": "stdin",
     "output_type": "stream",
     "text": [
      "Enter the number:-  10\n"
     ]
    },
    {
     "name": "stdout",
     "output_type": "stream",
     "text": [
      "2\n",
      "4\n",
      "6\n",
      "8\n",
      "10\n"
     ]
    }
   ],
   "source": [
    "#even number : \n",
    "def even_number(n):\n",
    "    for i in range(2, n+1, 2): \n",
    "        print(i)\n",
    "\n",
    "x = int(input(\"Enter the number:- \"))\n",
    "even_number(x)"
   ]
  },
  {
   "cell_type": "raw",
   "id": "c234be53-138d-4dc0-af8d-98df9e3735bf",
   "metadata": {},
   "source": [
    "Relation between parameters and argument:- \n",
    "\n",
    "i)  positional argument\n",
    "\n",
    "ii)  keyword argument \n",
    "\n",
    "iii)  default argument\n",
    "\n",
    "iv)  variable-lenght positional argument\n",
    "\n",
    "v)  keyword variable -lenght argument"
   ]
  },
  {
   "cell_type": "markdown",
   "id": "4559a8cc-d1d1-40a0-822d-f14841650400",
   "metadata": {},
   "source": [
    "<h3 style = \"color:red\">positional argument</h3>"
   ]
  },
  {
   "cell_type": "code",
   "execution_count": 13,
   "id": "37b3d927-0d3d-4910-8ed9-c9b90a3cad37",
   "metadata": {},
   "outputs": [
    {
     "name": "stdout",
     "output_type": "stream",
     "text": [
      "30\n"
     ]
    }
   ],
   "source": [
    "#syntax \n",
    "\n",
    "# def fun_name(x,y,z):\n",
    "#     ----\n",
    "#     ---- \n",
    "# fun_name(p,q,r)\n",
    "\n",
    "\n",
    "def add(x, y, z): \n",
    "    print(x+y+z)\n",
    "\n",
    "# add()  #TypeError: add() missing 3 required positional arguments: 'x', 'y', and 'z'\n",
    "# add(5) #TypeError: add() missing 2 required positional arguments: 'y' and 'z'\n",
    "# add(5,10)   TypeError: add() missing 1 required positional argument: 'z'\n",
    "\n",
    "add(5,10,15)\n",
    "# add(10,12,13,14)  TypeError: add() takes 3 positional arguments but 4 were given\n"
   ]
  },
  {
   "cell_type": "code",
   "execution_count": 11,
   "id": "70d17310-49df-4dd7-876b-9e2256552a78",
   "metadata": {},
   "outputs": [
    {
     "name": "stdin",
     "output_type": "stream",
     "text": [
      "Enter first value:-  10\n",
      "Enter secondvalue:-  20\n",
      "Enter third value:-  30\n"
     ]
    },
    {
     "name": "stdout",
     "output_type": "stream",
     "text": [
      "60\n"
     ]
    }
   ],
   "source": [
    "def add(x, y, z): \n",
    "    print(x+y+z)\n",
    "\n",
    "# p, q, r = int(input(\"Enter first value:- \")), int(input(\"Enter secondvalue:- \")), int(input(\"Enter third value:- \"))\n",
    "# add(p,q,r)\n",
    "\n",
    "add(int(input(\"Enter first value:- \")), int(input(\"Enter secondvalue:- \")), int(input(\"Enter third value:- \")))"
   ]
  },
  {
   "cell_type": "markdown",
   "id": "d3dc8973-e0c8-4b85-abca-02ee64b9b6ff",
   "metadata": {},
   "source": [
    "<h3 style = \"color:red\">2. Keyword argument</h3>"
   ]
  },
  {
   "cell_type": "code",
   "execution_count": 18,
   "id": "bdab6426-9141-4774-8974-2b5c969cbcb3",
   "metadata": {},
   "outputs": [
    {
     "name": "stdin",
     "output_type": "stream",
     "text": [
      "Enter value of p:- 10\n",
      "Enter value of r:-  20\n",
      "Enter value of q:-  30\n"
     ]
    },
    {
     "name": "stdout",
     "output_type": "stream",
     "text": [
      "10,30,20\n"
     ]
    }
   ],
   "source": [
    "# syntax : \n",
    "\n",
    "# def fun_name(x, y, z): \n",
    "#     ---- \n",
    "#     ---- \n",
    "# p = ___\n",
    "# q = ____ \n",
    "# r = ____ \n",
    "\n",
    "# fun_name(z=q, x=p, y=r)\n",
    "\n",
    "\n",
    "def sum(p, q, r): \n",
    "    print(p, q, r, sep=',')\n",
    "\n",
    "sum(p = int(input(\"Enter value of p:-\")), r= int(input(\"Enter value of r:- \")), q = int(input(\"Enter value of q:- \")))"
   ]
  },
  {
   "cell_type": "markdown",
   "id": "db261f99-0026-40b8-af2c-568f0de7316a",
   "metadata": {},
   "source": [
    "<h3 style = \"color:red\">3. Default argument</h3>"
   ]
  },
  {
   "cell_type": "code",
   "execution_count": 3,
   "id": "44561584-1785-4090-aefc-d0f4b602ba9a",
   "metadata": {},
   "outputs": [
    {
     "name": "stdout",
     "output_type": "stream",
     "text": [
      "0\n",
      "5\n",
      "9\n"
     ]
    }
   ],
   "source": [
    "# syntax:- \n",
    "\n",
    "# def fun_name(parameter=default value): \n",
    "#     ------- \n",
    "#     ------- \n",
    "#     -------\n",
    "\n",
    "# fun_name(argumrnt)\n",
    "\n",
    "def add(x=0, y=0): \n",
    "    print(x+y)\n",
    "\n",
    "add()\n",
    "add(5)\n",
    "add(5,4)\n",
    "# add(4,5,6)  error"
   ]
  },
  {
   "cell_type": "markdown",
   "id": "987a0bc4-06be-4fbb-97aa-0445ebc8fcb3",
   "metadata": {},
   "source": [
    "<h3 style = \"color:red\">4. Variable-length positional argument</h3>"
   ]
  },
  {
   "cell_type": "code",
   "execution_count": 5,
   "id": "755cd2cf-383b-4179-b7c5-01e0d2e67390",
   "metadata": {},
   "outputs": [
    {
     "data": {
      "text/plain": [
       "62"
      ]
     },
     "execution_count": 5,
     "metadata": {},
     "output_type": "execute_result"
    }
   ],
   "source": [
    "# syntax:- its use for handling the method overloading because python doesn't support method overloading \n",
    "\n",
    "# def fun_name(* args): \n",
    "#     ----- \n",
    "#     ----- \n",
    "#     ----- \n",
    "# fun_name(tuple_data)\n",
    "\n",
    "# def add(x,y): \n",
    "#     return x+y\n",
    "\n",
    "# def add(x,y,z): \n",
    "#     return x+y+z\n",
    "    \n",
    "# def add(x,y,z,p): \n",
    "#     return x+y+z+p\n",
    "\n",
    "# add(10,20,20,12)\n",
    "\n"
   ]
  },
  {
   "cell_type": "code",
   "execution_count": 7,
   "id": "dfa47b63-f133-43ee-9c0f-7573576ace4b",
   "metadata": {},
   "outputs": [
    {
     "name": "stdout",
     "output_type": "stream",
     "text": [
      "()\n",
      "<class 'tuple'>\n",
      "(1,)\n",
      "<class 'tuple'>\n",
      "(1, 2)\n",
      "<class 'tuple'>\n",
      "(1, 2, 3, 4, 5)\n",
      "<class 'tuple'>\n"
     ]
    }
   ],
   "source": [
    "def add(*args):  #add(*x) \n",
    "    print(args)\n",
    "    print(type(args))\n",
    "\n",
    "add()\n",
    "add(1)\n",
    "add(1,2)\n",
    "add(1,2,3,4,5)"
   ]
  },
  {
   "cell_type": "code",
   "execution_count": 8,
   "id": "bc1ba718-1abb-434e-856c-da522ca2497a",
   "metadata": {},
   "outputs": [
    {
     "name": "stdout",
     "output_type": "stream",
     "text": [
      "0\n",
      "3\n",
      "6\n"
     ]
    }
   ],
   "source": [
    "def add(*x): \n",
    "    x = sum(x)\n",
    "    print(x)\n",
    "\n",
    "add()\n",
    "add(1,2)\n",
    "add(1,2,3)"
   ]
  },
  {
   "cell_type": "code",
   "execution_count": 10,
   "id": "37962c78-c660-49a6-9204-80272f7b7158",
   "metadata": {},
   "outputs": [
    {
     "name": "stdout",
     "output_type": "stream",
     "text": [
      "0\n",
      "3\n",
      "6\n",
      "15\n"
     ]
    }
   ],
   "source": [
    "def add(*x): \n",
    "    sum = 0\n",
    "    for i in x: \n",
    "        sum +=i\n",
    "    print(sum)\n",
    "\n",
    "add()\n",
    "add(1,2)\n",
    "add(1,2,3)\n",
    "add(1,2,3,4,5)"
   ]
  },
  {
   "cell_type": "code",
   "execution_count": 11,
   "id": "19deb331-51ba-4f76-bdf7-69d25dd5d658",
   "metadata": {},
   "outputs": [
    {
     "name": "stdout",
     "output_type": "stream",
     "text": [
      "15\n"
     ]
    }
   ],
   "source": [
    "def add(*x): \n",
    "    sum = 0\n",
    "    for i in x: \n",
    "        sum +=i\n",
    "    return sum\n",
    "\n",
    "z = add(1,2,3,4,5)\n",
    "print(z)"
   ]
  },
  {
   "cell_type": "markdown",
   "id": "e9a9750a-a360-4d0a-abda-84d92c6d81db",
   "metadata": {},
   "source": [
    "<h3 style = \"color:red\">5. Keyword Variable-length argument</h3>"
   ]
  },
  {
   "cell_type": "markdown",
   "id": "06df01c5-1772-4493-af91-aaa34aa6047e",
   "metadata": {},
   "source": [
    "def show_details(**kwargs): \n",
    "    print(kwargs)\n",
    "    print(type(kwargs))\n",
    "\n",
    "show_details()\n",
    "show_details(name='Dheeru')\n",
    "show_details(name='Dheeru', age=23, qual='B.tech')"
   ]
  },
  {
   "cell_type": "code",
   "execution_count": 5,
   "id": "0d11b235-7913-4f0d-b005-80bce9372c75",
   "metadata": {},
   "outputs": [
    {
     "name": "stdout",
     "output_type": "stream",
     "text": [
      "Dheeru\n",
      "23\n",
      "B.tech\n"
     ]
    }
   ],
   "source": [
    "# def show_details(**kwargs): \n",
    "#     for i, j in kwargs:\n",
    "#         print(i,j)\n",
    "\n",
    "# show_details(name='Dheeru', age=23, qual='B.tech')\n",
    "\n",
    "def show_details(**kwargs): \n",
    "    # for i, j in kwargs.items():\n",
    "    #     print(i,j)\n",
    "    # for i in kwargs.keys(): \n",
    "    #     print(i)\n",
    "    for i in kwargs.values(): \n",
    "        print(i)\n",
    "\n",
    "show_details(name='Dheeru', age=23, qual='B.tech')"
   ]
  },
  {
   "cell_type": "markdown",
   "id": "f5cd7c4a-d14c-4144-9f96-af9c7b134419",
   "metadata": {},
   "source": [
    "<h2 style = \"color:yellow\">Higher-Order function</h2>"
   ]
  },
  {
   "cell_type": "raw",
   "id": "bad72c03-ea69-4fcf-bbf0-153ae6191a02",
   "metadata": {},
   "source": [
    "1. map()\n",
    "\n",
    "2. filter()\n",
    "\n",
    "3. reduce() \n",
    "\n",
    "4. lambda()\n",
    "\n",
    "\n",
    "\n",
    "Scenarios:- \n",
    "\n",
    "        l = [10,20,30,40,50]  - total no. of i/p element from collection \n",
    "\n",
    "           1.  i/p elements == o/p elements  --> map()  \n",
    "\n",
    "           2.   i/p elements >= o/p elements  --> filter()\n",
    "\n",
    "           3.   i/p elements == 1   -->   reduce() \n"
   ]
  },
  {
   "cell_type": "markdown",
   "id": "e9b0eecc-90cb-4f2f-abdd-9126fa9cbf20",
   "metadata": {},
   "source": [
    "<h3 style = \"color:red\">map()</h3>"
   ]
  },
  {
   "cell_type": "code",
   "execution_count": 7,
   "id": "49bc94bf-2bd1-4ad7-aaad-628f4c56f36b",
   "metadata": {},
   "outputs": [
    {
     "name": "stdout",
     "output_type": "stream",
     "text": [
      "<map object at 0x0000023617F96410>\n",
      "(4, 16, 36, 64, 100, 400)\n"
     ]
    }
   ],
   "source": [
    "# syntax: -  map(fun_name, collection)\n",
    "\n",
    "l = [2,4,6,8,10,20]\n",
    "def squre_no(n): \n",
    "    return n**2 \n",
    "\n",
    "x = map(squre_no, l)\n",
    "print(x)\n",
    "print(tuple(x))"
   ]
  },
  {
   "cell_type": "code",
   "execution_count": 8,
   "id": "b2bdc16f-9af3-4c22-ac68-dbeac9f5d23c",
   "metadata": {},
   "outputs": [
    {
     "name": "stdout",
     "output_type": "stream",
     "text": [
      "<map object at 0x000002361747B850>\n",
      "(7, 9, 11, 13, 15, 25)\n"
     ]
    }
   ],
   "source": [
    "l = [2,4,6,8,10,20]\n",
    "def squre_no(n): \n",
    "    return n+5 \n",
    "\n",
    "x = map(squre_no, l)\n",
    "print(x)\n",
    "print(tuple(x))"
   ]
  },
  {
   "cell_type": "markdown",
   "id": "a6eb7ce8-b3ce-40d7-8c13-e3ce1c7d666b",
   "metadata": {},
   "source": [
    "<h3 style = \"color:red\">filter()</h3>"
   ]
  },
  {
   "cell_type": "code",
   "execution_count": 11,
   "id": "322636d2-576f-44e2-9dec-013f98ba5783",
   "metadata": {},
   "outputs": [
    {
     "name": "stdout",
     "output_type": "stream",
     "text": [
      "<filter object at 0x0000023617FA4700>\n",
      "(2, 4, 6, 8, 10, 20)\n"
     ]
    }
   ],
   "source": [
    "l = [2,4,1,3,6,8,5,10,20]\n",
    "def even_no(n): \n",
    "    if (n%2==0): \n",
    "        return n\n",
    "\n",
    "x = filter(even_no, l)\n",
    "print(x)\n",
    "print(tuple(x))"
   ]
  },
  {
   "cell_type": "code",
   "execution_count": 17,
   "id": "a34f25a7-19ef-4beb-bb35-7668f5f8dcd7",
   "metadata": {},
   "outputs": [
    {
     "name": "stdout",
     "output_type": "stream",
     "text": [
      "<map object at 0x0000023618012E60>\n",
      "('even', 'even', 'odd', 'odd', 'even', 'even', 'odd', 'even', 'even')\n"
     ]
    }
   ],
   "source": [
    "# even odd most questions\n",
    "\n",
    "l = [2,4,1,3,6,8,5,10,20]\n",
    "def even_no(n): \n",
    "    if (n%2==0): \n",
    "        return 'even'\n",
    "    else: \n",
    "        return 'odd'\n",
    "\n",
    "x = map(even_no, l)\n",
    "print(x)\n",
    "print(tuple(x))"
   ]
  },
  {
   "cell_type": "code",
   "execution_count": null,
   "id": "aaea0b5f-1119-4fb2-ab81-7b7814161d5c",
   "metadata": {},
   "outputs": [],
   "source": []
  }
 ],
 "metadata": {
  "kernelspec": {
   "display_name": "Python 3 (ipykernel)",
   "language": "python",
   "name": "python3"
  },
  "language_info": {
   "codemirror_mode": {
    "name": "ipython",
    "version": 3
   },
   "file_extension": ".py",
   "mimetype": "text/x-python",
   "name": "python",
   "nbconvert_exporter": "python",
   "pygments_lexer": "ipython3",
   "version": "3.12.7"
  }
 },
 "nbformat": 4,
 "nbformat_minor": 5
}
