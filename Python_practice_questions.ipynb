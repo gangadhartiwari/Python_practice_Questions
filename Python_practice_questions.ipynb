{
 "cells": [
  {
   "cell_type": "markdown",
   "id": "ad3e3bea-d089-403c-91cd-fbe7f9195b96",
   "metadata": {},
   "source": [
    "<h3>1. Calculate the multiplication and sum of two numbers</h3>\n"
   ]
  },
  {
   "cell_type": "raw",
   "id": "f34685da-aa98-47a5-8b22-58f1c59feca0",
   "metadata": {},
   "source": [
    "Given two integer numbers, write a Python program to return their product only if the product is equal to or lower than 1000. Otherwise, return their sum."
   ]
  },
  {
   "cell_type": "code",
   "execution_count": 2,
   "id": "6472ba26-7650-4c41-bc3c-5e9bf636dc02",
   "metadata": {},
   "outputs": [
    {
     "name": "stdin",
     "output_type": "stream",
     "text": [
      "Enter the first number:-  45\n",
      "Enter the second number:-  456\n"
     ]
    },
    {
     "name": "stdout",
     "output_type": "stream",
     "text": [
      "The result is :-  501\n"
     ]
    }
   ],
   "source": [
    "def multi_or_sum(num1, num2): \n",
    "    product = num1*num2\n",
    "    if product<=1000:\n",
    "        return product \n",
    "    else: \n",
    "        return num1+num2\n",
    "\n",
    "n1 = int(input(\"Enter the first number:- \"))\n",
    "n2 = int(input(\"Enter the second number:- \"))\n",
    "\n",
    "result = multi_or_sum(n1, n2)\n",
    "print(\"The result is :- \", result)"
   ]
  },
  {
   "cell_type": "markdown",
   "id": "56fa159e-7f71-4010-90e3-e230dcb608b3",
   "metadata": {},
   "source": [
    "<h3>2. Print the Sum of a Current Number and a Previous number</h3>\n"
   ]
  },
  {
   "cell_type": "raw",
   "id": "b8cdec6c-c595-4491-894f-f50925fc7e99",
   "metadata": {},
   "source": [
    "Write Python code to iterate through the first 10 numbers and, in each iteration, print the sum of the current and previous number."
   ]
  },
  {
   "cell_type": "code",
   "execution_count": 13,
   "id": "8c093dde-1841-42b7-9f92-45066475cadf",
   "metadata": {},
   "outputs": [
    {
     "name": "stdout",
     "output_type": "stream",
     "text": [
      "Printing the sum of previous and current numbers sum: \n"
     ]
    },
    {
     "name": "stdin",
     "output_type": "stream",
     "text": [
      "Enter the number:-  10\n"
     ]
    },
    {
     "name": "stdout",
     "output_type": "stream",
     "text": [
      "sum of 0 and 1 are :  1\n",
      "sum of 1 and 2 are :  3\n",
      "sum of 2 and 3 are :  5\n",
      "sum of 3 and 4 are :  7\n",
      "sum of 4 and 5 are :  9\n",
      "sum of 5 and 6 are :  11\n",
      "sum of 6 and 7 are :  13\n",
      "sum of 7 and 8 are :  15\n",
      "sum of 8 and 9 are :  17\n",
      "sum of 9 and 10 are :  19\n"
     ]
    }
   ],
   "source": [
    "print(\"Printing the sum of previous and current numbers sum: \")\n",
    "prev = 0\n",
    "num = int(input(\"Enter the number:- \"))\n",
    "\n",
    "for i in range(1, num+1): \n",
    "    sum = i+prev\n",
    "    print(f\"sum of {prev} and {i} are : \", sum)\n",
    "    prev= i"
   ]
  },
  {
   "cell_type": "markdown",
   "id": "b6beb7c2-dda2-4df2-9bc7-1e7bb423df18",
   "metadata": {},
   "source": [
    "<h3>3. Print characters present at an even index number</h3>\n"
   ]
  },
  {
   "cell_type": "raw",
   "id": "0aa658ff-df46-4ce8-a52f-3e18b059647b",
   "metadata": {},
   "source": [
    "Write a Python code to accept a string from the user and display characters present at an even index number."
   ]
  },
  {
   "cell_type": "markdown",
   "id": "2dc9fed6-497f-420f-8e41-977eacedd626",
   "metadata": {},
   "source": [
    "str = input(\"Enter any string :- \")\n",
    "print(\"Original String :\", str)\n",
    "\n",
    "#solution 1\n",
    "\n",
    "# size = len(str)\n",
    "# for i in range(0, size-1, 2): \n",
    "#     print(f\"At {i} index :- \", str[i])\n",
    "\n",
    "# solution 2\n",
    "\n",
    "# for i in range(0, len(str)): \n",
    "#     if i%2==0: \n",
    "#         print(str[i])\n",
    "\n",
    "# Solution 3 - By slicing\n",
    "\n",
    "l = list(str)\n",
    "for i in l[0::2]: \n",
    "    print(i)"
   ]
  },
  {
   "cell_type": "markdown",
   "id": "c67f99af-0c0c-48ef-9af6-6b1ad4b76b87",
   "metadata": {},
   "source": [
    "<h3>4. Remove first n characters from a string</h3>\n"
   ]
  },
  {
   "cell_type": "raw",
   "id": "d74729f2-bc69-41ff-898a-a109564bacca",
   "metadata": {},
   "source": [
    "Write a Python code to remove characters from a string from 0 to n and return a new string."
   ]
  },
  {
   "cell_type": "code",
   "execution_count": 21,
   "id": "8036eaea-c2de-40b4-9a29-fadbcb719893",
   "metadata": {},
   "outputs": [
    {
     "name": "stdin",
     "output_type": "stream",
     "text": [
      "Enter the string :  gangadhar\n",
      "Enter the number that u want to remove :-  2\n"
     ]
    },
    {
     "name": "stdout",
     "output_type": "stream",
     "text": [
      "Before Removing :-   gangadhar\n",
      "After Removed :-  ngadhar\n"
     ]
    }
   ],
   "source": [
    "str = input(\"Enter the string : \")\n",
    "n = int(input(\"Enter the number that u want to remove :- \"))\n",
    "\n",
    "print(\"Before Removing :-  \", str)\n",
    "rem = str[n:]\n",
    "print(\"After Removed :- \", rem)\n"
   ]
  },
  {
   "cell_type": "markdown",
   "id": "c359d9c8-7b5c-4edb-a9b4-5cfdb670ca7b",
   "metadata": {},
   "source": [
    "<h3>5. Check if the first and last numbers of a list are the same</h3>"
   ]
  },
  {
   "cell_type": "raw",
   "id": "4f4837d9-fbfa-43b0-aac0-fa6657f4efea",
   "metadata": {},
   "source": [
    "Write a code to return True if the list’s first and last numbers are the same. If the numbers are different, return False."
   ]
  },
  {
   "cell_type": "code",
   "execution_count": 32,
   "id": "8367a8b9-3ada-4b90-a4d1-18db8fcd8207",
   "metadata": {},
   "outputs": [
    {
     "name": "stdin",
     "output_type": "stream",
     "text": [
      "Enter the list :  [14, 45, 36, 96, 14]\n"
     ]
    },
    {
     "name": "stdout",
     "output_type": "stream",
     "text": [
      "True\n"
     ]
    }
   ],
   "source": [
    "# Solution 1 :-  using eval() which is not safe because eval() will execute any Python code, which can be very dangerous:\n",
    "\n",
    "# def check(series):\n",
    "#     if series[0] == series[-1]: \n",
    "#         return True\n",
    "#     else: \n",
    "#         return False\n",
    "\n",
    "# inp = eval(input(\"Enter the list : \"))\n",
    "# print(check(inp))\n",
    "\n",
    "# Solution 2 :-  ast.literal_eval() only evaluates basic Python literals like lists, dicts, ints, etc. \n",
    "# safer than eval(). using It only allows basic Python data types — no functions, no modules, no code execution.\n",
    "\n",
    "import ast\n",
    "\n",
    "def check(series):\n",
    "    if series[0] == series[-1]: \n",
    "        return True\n",
    "    else: \n",
    "        return False\n",
    "\n",
    "inp = ast.literal_eval(input(\"Enter the list : \"))\n",
    "print(check(inp))\n"
   ]
  },
  {
   "cell_type": "markdown",
   "id": "9fd4cd4a-3527-4040-b242-a52e2a6cd33a",
   "metadata": {},
   "source": [
    "<h3>6.  Display numbers divisible by 5</h3>\n"
   ]
  },
  {
   "cell_type": "raw",
   "id": "b82d26d1-83a3-4376-a948-ff2c7acffa23",
   "metadata": {},
   "source": [
    "Write a Python code to display numbers from a list divisible by 5"
   ]
  },
  {
   "cell_type": "code",
   "execution_count": 35,
   "id": "acc0b838-219f-4ef0-ae2d-eef4d2c5da4a",
   "metadata": {},
   "outputs": [
    {
     "name": "stdout",
     "output_type": "stream",
     "text": [
      "45\n",
      "15\n",
      "35\n",
      "75\n"
     ]
    }
   ],
   "source": [
    "def divisible_by_5(collection): \n",
    "    for i in collection:\n",
    "        if i%5==0: \n",
    "            print(i)\n",
    "\n",
    "list1 = [13,45,62,15,35,47,89,75]\n",
    "divisible_by_5(list1)"
   ]
  },
  {
   "cell_type": "markdown",
   "id": "6c606c88-5d25-4628-afa4-146a4420ac74",
   "metadata": {},
   "source": [
    "<h3>7. Find the number of occurrences of a substring in a string</h3>\n"
   ]
  },
  {
   "cell_type": "raw",
   "id": "203ddd30-f7b4-4cbd-8b3b-2b426d4bb244",
   "metadata": {},
   "source": [
    "Write a Python code to find how often the substring “xyz” appears in the given string."
   ]
  },
  {
   "cell_type": "code",
   "execution_count": null,
   "id": "2c339af3-f0d3-406f-99ae-2fb154227ccb",
   "metadata": {},
   "outputs": [],
   "source": []
  }
 ],
 "metadata": {
  "kernelspec": {
   "display_name": "Python 3 (ipykernel)",
   "language": "python",
   "name": "python3"
  },
  "language_info": {
   "codemirror_mode": {
    "name": "ipython",
    "version": 3
   },
   "file_extension": ".py",
   "mimetype": "text/x-python",
   "name": "python",
   "nbconvert_exporter": "python",
   "pygments_lexer": "ipython3",
   "version": "3.12.7"
  }
 },
 "nbformat": 4,
 "nbformat_minor": 5
}
