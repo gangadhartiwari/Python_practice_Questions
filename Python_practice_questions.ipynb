{
 "cells": [
  {
   "cell_type": "markdown",
   "id": "ad3e3bea-d089-403c-91cd-fbe7f9195b96",
   "metadata": {},
   "source": [
    "<h3>1. Calculate the multiplication and sum of two numbers</h3>\n"
   ]
  },
  {
   "cell_type": "raw",
   "id": "f34685da-aa98-47a5-8b22-58f1c59feca0",
   "metadata": {},
   "source": [
    "Given two integer numbers, write a Python program to return their product only if the product is equal to or lower than 1000. Otherwise, return their sum."
   ]
  },
  {
   "cell_type": "code",
   "execution_count": 2,
   "id": "6472ba26-7650-4c41-bc3c-5e9bf636dc02",
   "metadata": {},
   "outputs": [
    {
     "name": "stdin",
     "output_type": "stream",
     "text": [
      "Enter the first number:-  45\n",
      "Enter the second number:-  456\n"
     ]
    },
    {
     "name": "stdout",
     "output_type": "stream",
     "text": [
      "The result is :-  501\n"
     ]
    }
   ],
   "source": [
    "def multi_or_sum(num1, num2): \n",
    "    product = num1*num2\n",
    "    if product<=1000:\n",
    "        return product \n",
    "    else: \n",
    "        return num1+num2\n",
    "\n",
    "n1 = int(input(\"Enter the first number:- \"))\n",
    "n2 = int(input(\"Enter the second number:- \"))\n",
    "\n",
    "result = multi_or_sum(n1, n2)\n",
    "print(\"The result is :- \", result)"
   ]
  },
  {
   "cell_type": "code",
   "execution_count": null,
   "id": "3d616993-9ebf-4ba8-a576-01866df746c8",
   "metadata": {},
   "outputs": [],
   "source": []
  }
 ],
 "metadata": {
  "kernelspec": {
   "display_name": "Python 3 (ipykernel)",
   "language": "python",
   "name": "python3"
  },
  "language_info": {
   "codemirror_mode": {
    "name": "ipython",
    "version": 3
   },
   "file_extension": ".py",
   "mimetype": "text/x-python",
   "name": "python",
   "nbconvert_exporter": "python",
   "pygments_lexer": "ipython3",
   "version": "3.12.7"
  }
 },
 "nbformat": 4,
 "nbformat_minor": 5
}
